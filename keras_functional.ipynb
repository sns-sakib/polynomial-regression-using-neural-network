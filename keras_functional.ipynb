{
  "nbformat": 4,
  "nbformat_minor": 0,
  "metadata": {
    "colab": {
      "name": "keras functional.ipynb",
      "provenance": [],
      "authorship_tag": "ABX9TyNFUw5/kl/1s1UdLuqfYxLh",
      "include_colab_link": true
    },
    "kernelspec": {
      "name": "python3",
      "display_name": "Python 3"
    },
    "language_info": {
      "name": "python"
    }
  },
  "cells": [
    {
      "cell_type": "markdown",
      "metadata": {
        "id": "view-in-github",
        "colab_type": "text"
      },
      "source": [
        "<a href=\"https://colab.research.google.com/github/sns-sakib/polynomial-regression-using-neural-network/blob/main/keras_functional.ipynb\" target=\"_parent\"><img src=\"https://colab.research.google.com/assets/colab-badge.svg\" alt=\"Open In Colab\"/></a>"
      ]
    },
    {
      "cell_type": "code",
      "execution_count": 1,
      "metadata": {
        "id": "WW8eIc41gebh"
      },
      "outputs": [],
      "source": [
        "import numpy as np\n",
        "import tensorflow as tf\n",
        "from tensorflow import keras\n",
        "from tensorflow.keras import layers\n"
      ]
    },
    {
      "cell_type": "code",
      "source": [
        "input1 = keras.layers.Input(shape=(28, 28, 1),name=\"input_1\")\n",
        "\n",
        "input2 = keras.layers.Input(shape=(28, 28, 1),name=\"input_2\")\n",
        "\n",
        "convx = keras.layers.Conv2D(32, 3, activation=\"relu\", name=\"conv_x\")(input1)\n",
        "relux = keras.layers.ReLU( name='relu_x')(convx)\n",
        "convy = keras.layers.Conv2D(32, 3, activation=\"relu\", name=\"conv_y\")(input2)\n",
        "reluy = keras.layers.ReLU( name='relu_y')(convy)\n",
        "add = keras.layers.concatenate([convx, convy], name='add')\n",
        "\n",
        "conv2d = keras.layers.Conv2D(28, 3, activation=\"relu\", name=\"conv_z\")(add)\n",
        "reluz = keras.layers.ReLU( name='relu_z')(conv2d)\n",
        "\n",
        "\n",
        "model = keras.Model(inputs = [input1, input2], outputs = reluz, name=\"myModel\")\n",
        "model.summary()\n",
        "\n",
        "\n"
      ],
      "metadata": {
        "colab": {
          "base_uri": "https://localhost:8080/"
        },
        "id": "gLhIdbsfglUL",
        "outputId": "5b68bf27-bcfa-4c7e-c685-cae4dfb4b914"
      },
      "execution_count": 17,
      "outputs": [
        {
          "output_type": "stream",
          "name": "stdout",
          "text": [
            "Model: \"myModel\"\n",
            "__________________________________________________________________________________________________\n",
            " Layer (type)                   Output Shape         Param #     Connected to                     \n",
            "==================================================================================================\n",
            " input_1 (InputLayer)           [(None, 28, 28, 1)]  0           []                               \n",
            "                                                                                                  \n",
            " input_2 (InputLayer)           [(None, 28, 28, 1)]  0           []                               \n",
            "                                                                                                  \n",
            " conv_x (Conv2D)                (None, 26, 26, 32)   320         ['input_1[0][0]']                \n",
            "                                                                                                  \n",
            " conv_y (Conv2D)                (None, 26, 26, 32)   320         ['input_2[0][0]']                \n",
            "                                                                                                  \n",
            " add (Concatenate)              (None, 26, 26, 64)   0           ['conv_x[0][0]',                 \n",
            "                                                                  'conv_y[0][0]']                 \n",
            "                                                                                                  \n",
            " conv_z (Conv2D)                (None, 24, 24, 28)   16156       ['add[0][0]']                    \n",
            "                                                                                                  \n",
            " relu_z (ReLU)                  (None, 24, 24, 28)   0           ['conv_z[0][0]']                 \n",
            "                                                                                                  \n",
            "==================================================================================================\n",
            "Total params: 16,796\n",
            "Trainable params: 16,796\n",
            "Non-trainable params: 0\n",
            "__________________________________________________________________________________________________\n"
          ]
        }
      ]
    },
    {
      "cell_type": "code",
      "source": [
        "keras.utils.plot_model(model, \"multi_input_model.png\", show_shapes=False)\n"
      ],
      "metadata": {
        "colab": {
          "base_uri": "https://localhost:8080/",
          "height": 466
        },
        "id": "5YDsd3fgmNls",
        "outputId": "148cc409-fbb6-4ef9-dc43-0b9f3753f5f4"
      },
      "execution_count": 14,
      "outputs": [
        {
          "output_type": "execute_result",
          "data": {
            "image/png": "[encoded data removed]",
            "text/plain": [
              "<IPython.core.display.Image object>"
            ]
          },
          "metadata": {},
          "execution_count": 14
        }
      ]
    },
    {
      "cell_type": "code",
      "source": [
        "model.compile(\n",
        "    optimizer=keras.optimizers.RMSprop(1e-3),\n",
        "    loss=\"binary_crossentropy\",\n",
        "   \n",
        ")\n"
      ],
      "metadata": {
        "id": "z5aboFTxqtbm"
      },
      "execution_count": 29,
      "outputs": []
    },
    {
      "cell_type": "code",
      "source": [
        "(x_train, y_train), (x_test, y_test) = keras.datasets.mnist.load_data()"
      ],
      "metadata": {
        "id": "lh8yrCdWnTqv"
      },
      "execution_count": 30,
      "outputs": []
    },
    {
      "cell_type": "code",
      "source": [],
      "metadata": {
        "id": "3s_TUQwYoox9"
      },
      "execution_count": 24,
      "outputs": []
    },
    {
      "cell_type": "code",
      "source": [
        "# Dummy input data\n",
        "num_words = 1000\n",
        "input1_data = np.random.randint(num_words, size=(1280, 28, 28, 1))\n",
        "input2_data = np.random.randint(num_words, size=(1280, 28, 28, 1))\n",
        "\n",
        "# Dummy target data\n",
        "targets = np.random.randint(num_words, size=((1280, 24, 24, 28)))\n"
      ],
      "metadata": {
        "id": "q5jaJJ-oosGn"
      },
      "execution_count": 43,
      "outputs": []
    },
    {
      "cell_type": "code",
      "source": [
        "len(input1_data)"
      ],
      "metadata": {
        "colab": {
          "base_uri": "https://localhost:8080/"
        },
        "id": "Ufeb5pu8uVKp",
        "outputId": "ebcbf0c5-cf9c-423e-fd8f-22e07c867ccb"
      },
      "execution_count": 41,
      "outputs": [
        {
          "output_type": "execute_result",
          "data": {
            "text/plain": [
              "1280"
            ]
          },
          "metadata": {},
          "execution_count": 41
        }
      ]
    },
    {
      "cell_type": "code",
      "source": [
        "\n",
        "model.fit(\n",
        "    {\"input_1\": input1_data, \"input_2\": input2_data},\n",
        "    targets,\n",
        "    epochs=2,\n",
        "    batch_size=32,\n",
        ")"
      ],
      "metadata": {
        "colab": {
          "base_uri": "https://localhost:8080/"
        },
        "id": "n9fD6vpqs1Sr",
        "outputId": "28227a87-b01a-4091-f90d-c0bef9764300"
      },
      "execution_count": 32,
      "outputs": [
        {
          "output_type": "stream",
          "name": "stdout",
          "text": [
            "Epoch 1/2\n",
            "40/40 [==============================] - 3s 71ms/step - loss: -5707.9795\n",
            "Epoch 2/2\n",
            "40/40 [==============================] - 3s 70ms/step - loss: -6508.7227\n"
          ]
        },
        {
          "output_type": "execute_result",
          "data": {
            "text/plain": [
              "<keras.callbacks.History at 0x7f4f748ac1d0>"
            ]
          },
          "metadata": {},
          "execution_count": 32
        }
      ]
    },
    {
      "cell_type": "code",
      "source": [
        "import matplotlib.pyplot as plt\n",
        "test = np.random.randint(num_words, size=(1, 28, 28, 1))\n",
        "test2 = np.random.randint(num_words, size=(1, 28, 28, 1))\n",
        "print(model.predict([test, test2]))"
      ],
      "metadata": {
        "colab": {
          "base_uri": "https://localhost:8080/"
        },
        "id": "11s8OnawtXUS",
        "outputId": "40a6f1ea-156b-4e30-f8a1-ed06d37de506"
      },
      "execution_count": 52,
      "outputs": [
        {
          "output_type": "stream",
          "name": "stdout",
          "text": [
            "[[[[285.79507  198.1042   159.29935  ... 216.16846  251.06097\n",
            "    378.23398 ]\n",
            "   [291.87497  223.4031   213.6584   ... 222.84569  304.37323\n",
            "    311.2363  ]\n",
            "   [239.16435  250.2637   228.4117   ... 161.39497  222.51428\n",
            "    303.56998 ]\n",
            "   ...\n",
            "   [118.268    141.04488  181.39682  ... 283.03726  232.42065\n",
            "    273.67456 ]\n",
            "   [201.91513  152.75652  102.13447  ... 117.760506 193.03185\n",
            "    282.21503 ]\n",
            "   [185.18045  219.95033  228.87363  ... 154.0613   369.58066\n",
            "    194.32062 ]]\n",
            "\n",
            "  [[223.43495  185.6767   284.6804   ... 166.59584  199.35435\n",
            "    296.51257 ]\n",
            "   [337.07883  176.38745  167.55618  ... 241.03093  276.96695\n",
            "    310.56165 ]\n",
            "   [273.87817  186.20006  132.50203  ... 178.50931  120.75019\n",
            "    289.2625  ]\n",
            "   ...\n",
            "   [283.5758   187.78043  131.80975  ... 193.99748  182.40636\n",
            "    256.7955  ]\n",
            "   [189.06279  232.22887  221.83359  ... 262.82123  230.28717\n",
            "    232.40616 ]\n",
            "   [228.25804  259.6345   170.50215  ... 131.78937  269.8112\n",
            "    291.07028 ]]\n",
            "\n",
            "  [[207.61044  253.33495  248.37471  ... 225.1595   201.97023\n",
            "    329.87082 ]\n",
            "   [293.69733  259.79553  190.02736  ...  91.06753  297.3941\n",
            "    411.19867 ]\n",
            "   [180.63425  239.15445  310.9971   ... 201.40427  129.90254\n",
            "    233.2681  ]\n",
            "   ...\n",
            "   [232.48409  253.00922  211.65086  ... 230.74623  222.8202\n",
            "    276.35593 ]\n",
            "   [272.911    172.63182  149.97208  ...  89.90858  146.3391\n",
            "    278.3277  ]\n",
            "   [198.42232  308.49814  259.35678  ... 262.48947  222.83382\n",
            "    196.26743 ]]\n",
            "\n",
            "  ...\n",
            "\n",
            "  [[194.44347  176.997    122.176155 ... 174.17871  211.85817\n",
            "    288.0256  ]\n",
            "   [207.23753  242.53912  150.63333  ... 182.52797  261.17365\n",
            "    288.18857 ]\n",
            "   [275.56195  178.05524  189.78355  ... 179.19847  123.425476\n",
            "    290.57724 ]\n",
            "   ...\n",
            "   [302.58542  110.66307  163.26984  ... 243.80092  186.57184\n",
            "    334.4519  ]\n",
            "   [356.59195  195.41946  166.12308  ... 175.25775  286.88132\n",
            "    342.29755 ]\n",
            "   [184.28821  263.63986  263.68225  ... 273.81485  108.48088\n",
            "    288.27405 ]]\n",
            "\n",
            "  [[183.0315   152.60559  185.15553  ... 158.5345    99.177475\n",
            "    288.97342 ]\n",
            "   [211.73494  217.05875  175.95805  ... 138.87807  241.06203\n",
            "    283.16528 ]\n",
            "   [170.95927  245.69797  200.85623  ... 208.03365  152.386\n",
            "    263.87488 ]\n",
            "   ...\n",
            "   [223.49178  227.37189  177.25957  ... 185.49034  225.45486\n",
            "    407.32828 ]\n",
            "   [303.4416   178.00186  183.00578  ... 100.56392  232.7946\n",
            "    366.50806 ]\n",
            "   [170.5086   192.37027  245.37262  ... 126.45292  185.46075\n",
            "    254.08319 ]]\n",
            "\n",
            "  [[173.4857   140.44882  167.45679  ... 228.42212  134.1033\n",
            "    263.67715 ]\n",
            "   [305.50027  202.80873  131.15833  ... 108.39641  150.13655\n",
            "    220.8599  ]\n",
            "   [175.95476  209.0309   275.2721   ... 222.41235  284.30713\n",
            "    209.48126 ]\n",
            "   ...\n",
            "   [287.73428  240.55078  142.02408  ... 202.06483  310.13663\n",
            "    340.69287 ]\n",
            "   [214.10168  236.87779  243.98938  ... 157.49977  215.73631\n",
            "    243.53128 ]\n",
            "   [231.6744   142.90056  244.19438  ... 204.72702  170.82097\n",
            "    304.6844  ]]]]\n"
          ]
        }
      ]
    },
    {
      "cell_type": "code",
      "source": [],
      "metadata": {
        "id": "qwVCSlDdyepm"
      },
      "execution_count": null,
      "outputs": []
    }
  ]
}