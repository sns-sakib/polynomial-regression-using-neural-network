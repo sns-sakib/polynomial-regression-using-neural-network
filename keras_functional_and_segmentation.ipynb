{
  "nbformat": 4,
  "nbformat_minor": 0,
  "metadata": {
    "colab": {
      "name": "keras functional and segmentation.ipynb",
      "provenance": [],
      "authorship_tag": "ABX9TyP/kKvU7fS+Wum/b2vulZHI",
      "include_colab_link": true
    },
    "kernelspec": {
      "name": "python3",
      "display_name": "Python 3"
    },
    "language_info": {
      "name": "python"
    }
  },
  "cells": [
    {
      "cell_type": "markdown",
      "metadata": {
        "id": "view-in-github",
        "colab_type": "text"
      },
      "source": [
        "<a href=\"https://colab.research.google.com/github/sns-sakib/polynomial-regression-using-neural-network/blob/main/keras_functional_and_segmentation.ipynb\" target=\"_parent\"><img src=\"https://colab.research.google.com/assets/colab-badge.svg\" alt=\"Open In Colab\"/></a>"
      ]
    },
    {
      "cell_type": "code",
      "execution_count": 96,
      "metadata": {
        "id": "WW8eIc41gebh"
      },
      "outputs": [],
      "source": [
        "import numpy as np\n",
        "import tensorflow as tf\n",
        "from tensorflow import keras\n",
        "from tensorflow.keras import layers\n",
        "import cv2 as cv\n"
      ]
    },
    {
      "cell_type": "code",
      "source": [
        "input1 = keras.layers.Input(shape=(28, 28, 1),name=\"input_1\")\n",
        "\n",
        "input2 = keras.layers.Input(shape=(28, 28, 1),name=\"input_2\")\n",
        "\n",
        "convx = keras.layers.Conv2D(32, 3, activation=\"relu\", name=\"conv_x\")(input1)\n",
        "relux = keras.layers.ReLU( name='relu_x')(convx)\n",
        "convy = keras.layers.Conv2D(32, 3, activation=\"relu\", name=\"conv_y\")(input2)\n",
        "reluy = keras.layers.ReLU( name='relu_y')(convy)\n",
        "add = keras.layers.concatenate([convx, convy], name='add')\n",
        "\n",
        "conv2d = keras.layers.Conv2D(28, 3, activation=\"relu\", name=\"conv_z\")(add)\n",
        "reluz = keras.layers.ReLU( name='relu_z')(conv2d)\n",
        "\n",
        "\n",
        "model = keras.Model(inputs = [input1, input2], outputs = reluz, name=\"myModel\")\n",
        "model.summary()\n",
        "\n",
        "\n"
      ],
      "metadata": {
        "colab": {
          "base_uri": "https://localhost:8080/"
        },
        "id": "gLhIdbsfglUL",
        "outputId": "5b68bf27-bcfa-4c7e-c685-cae4dfb4b914"
      },
      "execution_count": 17,
      "outputs": [
        {
          "output_type": "stream",
          "name": "stdout",
          "text": [
            "Model: \"myModel\"\n",
            "__________________________________________________________________________________________________\n",
            " Layer (type)                   Output Shape         Param #     Connected to                     \n",
            "==================================================================================================\n",
            " input_1 (InputLayer)           [(None, 28, 28, 1)]  0           []                               \n",
            "                                                                                                  \n",
            " input_2 (InputLayer)           [(None, 28, 28, 1)]  0           []                               \n",
            "                                                                                                  \n",
            " conv_x (Conv2D)                (None, 26, 26, 32)   320         ['input_1[0][0]']                \n",
            "                                                                                                  \n",
            " conv_y (Conv2D)                (None, 26, 26, 32)   320         ['input_2[0][0]']                \n",
            "                                                                                                  \n",
            " add (Concatenate)              (None, 26, 26, 64)   0           ['conv_x[0][0]',                 \n",
            "                                                                  'conv_y[0][0]']                 \n",
            "                                                                                                  \n",
            " conv_z (Conv2D)                (None, 24, 24, 28)   16156       ['add[0][0]']                    \n",
            "                                                                                                  \n",
            " relu_z (ReLU)                  (None, 24, 24, 28)   0           ['conv_z[0][0]']                 \n",
            "                                                                                                  \n",
            "==================================================================================================\n",
            "Total params: 16,796\n",
            "Trainable params: 16,796\n",
            "Non-trainable params: 0\n",
            "__________________________________________________________________________________________________\n"
          ]
        }
      ]
    },
    {
      "cell_type": "code",
      "source": [
        "keras.utils.plot_model(model, \"multi_input_model.png\", show_shapes=False)\n"
      ],
      "metadata": {
        "colab": {
          "base_uri": "https://localhost:8080/",
          "height": 466
        },
        "id": "5YDsd3fgmNls",
        "outputId": "148cc409-fbb6-4ef9-dc43-0b9f3753f5f4"
      },
      "execution_count": 14,
      "outputs": [
        {
          "output_type": "execute_result",
          "data": {
            "image/png": "[encoded data removed]",
            "text/plain": [
              "<IPython.core.display.Image object>"
            ]
          },
          "metadata": {},
          "execution_count": 14
        }
      ]
    },
    {
      "cell_type": "code",
      "source": [
        "model.compile(\n",
        "    optimizer=keras.optimizers.RMSprop(1e-3),\n",
        "    loss=\"binary_crossentropy\",\n",
        "   \n",
        ")\n"
      ],
      "metadata": {
        "id": "z5aboFTxqtbm"
      },
      "execution_count": 29,
      "outputs": []
    },
    {
      "cell_type": "code",
      "source": [
        "(x_train, y_train), (x_test, y_test) = keras.datasets.mnist.load_data()"
      ],
      "metadata": {
        "id": "lh8yrCdWnTqv"
      },
      "execution_count": 30,
      "outputs": []
    },
    {
      "cell_type": "code",
      "source": [],
      "metadata": {
        "id": "3s_TUQwYoox9"
      },
      "execution_count": 24,
      "outputs": []
    },
    {
      "cell_type": "code",
      "source": [
        "# Dummy input data\n",
        "num_words = 1000\n",
        "input1_data = np.random.randint(num_words, size=(1280, 28, 28, 1))\n",
        "input2_data = np.random.randint(num_words, size=(1280, 28, 28, 1))\n",
        "\n",
        "# Dummy target data\n",
        "targets = np.random.randint(num_words, size=((1280, 24, 24, 28)))\n"
      ],
      "metadata": {
        "id": "q5jaJJ-oosGn"
      },
      "execution_count": 43,
      "outputs": []
    },
    {
      "cell_type": "code",
      "source": [
        "len(input1_data)"
      ],
      "metadata": {
        "colab": {
          "base_uri": "https://localhost:8080/"
        },
        "id": "Ufeb5pu8uVKp",
        "outputId": "ebcbf0c5-cf9c-423e-fd8f-22e07c867ccb"
      },
      "execution_count": 41,
      "outputs": [
        {
          "output_type": "execute_result",
          "data": {
            "text/plain": [
              "1280"
            ]
          },
          "metadata": {},
          "execution_count": 41
        }
      ]
    },
    {
      "cell_type": "code",
      "source": [
        "\n",
        "model.fit(\n",
        "    {\"input_1\": input1_data, \"input_2\": input2_data},\n",
        "    targets,\n",
        "    epochs=2,\n",
        "    batch_size=32,\n",
        ")"
      ],
      "metadata": {
        "colab": {
          "base_uri": "https://localhost:8080/"
        },
        "id": "n9fD6vpqs1Sr",
        "outputId": "28227a87-b01a-4091-f90d-c0bef9764300"
      },
      "execution_count": 32,
      "outputs": [
        {
          "output_type": "stream",
          "name": "stdout",
          "text": [
            "Epoch 1/2\n",
            "40/40 [==============================] - 3s 71ms/step - loss: -5707.9795\n",
            "Epoch 2/2\n",
            "40/40 [==============================] - 3s 70ms/step - loss: -6508.7227\n"
          ]
        },
        {
          "output_type": "execute_result",
          "data": {
            "text/plain": [
              "<keras.callbacks.History at 0x7f4f748ac1d0>"
            ]
          },
          "metadata": {},
          "execution_count": 32
        }
      ]
    },
    {
      "cell_type": "code",
      "source": [
        "import matplotlib.pyplot as plt\n",
        "test = np.random.randint(num_words, size=(1, 28, 28, 1))\n",
        "test2 = np.random.randint(num_words, size=(1, 28, 28, 1))\n",
        "print(model.predict([test, test2]))"
      ],
      "metadata": {
        "colab": {
          "base_uri": "https://localhost:8080/"
        },
        "id": "11s8OnawtXUS",
        "outputId": "40a6f1ea-156b-4e30-f8a1-ed06d37de506"
      },
      "execution_count": 52,
      "outputs": [
        {
          "output_type": "stream",
          "name": "stdout",
          "text": [
            "[[[[285.79507  198.1042   159.29935  ... 216.16846  251.06097\n",
            "    378.23398 ]\n",
            "   [291.87497  223.4031   213.6584   ... 222.84569  304.37323\n",
            "    311.2363  ]\n",
            "   [239.16435  250.2637   228.4117   ... 161.39497  222.51428\n",
            "    303.56998 ]\n",
            "   ...\n",
            "   [118.268    141.04488  181.39682  ... 283.03726  232.42065\n",
            "    273.67456 ]\n",
            "   [201.91513  152.75652  102.13447  ... 117.760506 193.03185\n",
            "    282.21503 ]\n",
            "   [185.18045  219.95033  228.87363  ... 154.0613   369.58066\n",
            "    194.32062 ]]\n",
            "\n",
            "  [[223.43495  185.6767   284.6804   ... 166.59584  199.35435\n",
            "    296.51257 ]\n",
            "   [337.07883  176.38745  167.55618  ... 241.03093  276.96695\n",
            "    310.56165 ]\n",
            "   [273.87817  186.20006  132.50203  ... 178.50931  120.75019\n",
            "    289.2625  ]\n",
            "   ...\n",
            "   [283.5758   187.78043  131.80975  ... 193.99748  182.40636\n",
            "    256.7955  ]\n",
            "   [189.06279  232.22887  221.83359  ... 262.82123  230.28717\n",
            "    232.40616 ]\n",
            "   [228.25804  259.6345   170.50215  ... 131.78937  269.8112\n",
            "    291.07028 ]]\n",
            "\n",
            "  [[207.61044  253.33495  248.37471  ... 225.1595   201.97023\n",
            "    329.87082 ]\n",
            "   [293.69733  259.79553  190.02736  ...  91.06753  297.3941\n",
            "    411.19867 ]\n",
            "   [180.63425  239.15445  310.9971   ... 201.40427  129.90254\n",
            "    233.2681  ]\n",
            "   ...\n",
            "   [232.48409  253.00922  211.65086  ... 230.74623  222.8202\n",
            "    276.35593 ]\n",
            "   [272.911    172.63182  149.97208  ...  89.90858  146.3391\n",
            "    278.3277  ]\n",
            "   [198.42232  308.49814  259.35678  ... 262.48947  222.83382\n",
            "    196.26743 ]]\n",
            "\n",
            "  ...\n",
            "\n",
            "  [[194.44347  176.997    122.176155 ... 174.17871  211.85817\n",
            "    288.0256  ]\n",
            "   [207.23753  242.53912  150.63333  ... 182.52797  261.17365\n",
            "    288.18857 ]\n",
            "   [275.56195  178.05524  189.78355  ... 179.19847  123.425476\n",
            "    290.57724 ]\n",
            "   ...\n",
            "   [302.58542  110.66307  163.26984  ... 243.80092  186.57184\n",
            "    334.4519  ]\n",
            "   [356.59195  195.41946  166.12308  ... 175.25775  286.88132\n",
            "    342.29755 ]\n",
            "   [184.28821  263.63986  263.68225  ... 273.81485  108.48088\n",
            "    288.27405 ]]\n",
            "\n",
            "  [[183.0315   152.60559  185.15553  ... 158.5345    99.177475\n",
            "    288.97342 ]\n",
            "   [211.73494  217.05875  175.95805  ... 138.87807  241.06203\n",
            "    283.16528 ]\n",
            "   [170.95927  245.69797  200.85623  ... 208.03365  152.386\n",
            "    263.87488 ]\n",
            "   ...\n",
            "   [223.49178  227.37189  177.25957  ... 185.49034  225.45486\n",
            "    407.32828 ]\n",
            "   [303.4416   178.00186  183.00578  ... 100.56392  232.7946\n",
            "    366.50806 ]\n",
            "   [170.5086   192.37027  245.37262  ... 126.45292  185.46075\n",
            "    254.08319 ]]\n",
            "\n",
            "  [[173.4857   140.44882  167.45679  ... 228.42212  134.1033\n",
            "    263.67715 ]\n",
            "   [305.50027  202.80873  131.15833  ... 108.39641  150.13655\n",
            "    220.8599  ]\n",
            "   [175.95476  209.0309   275.2721   ... 222.41235  284.30713\n",
            "    209.48126 ]\n",
            "   ...\n",
            "   [287.73428  240.55078  142.02408  ... 202.06483  310.13663\n",
            "    340.69287 ]\n",
            "   [214.10168  236.87779  243.98938  ... 157.49977  215.73631\n",
            "    243.53128 ]\n",
            "   [231.6744   142.90056  244.19438  ... 204.72702  170.82097\n",
            "    304.6844  ]]]]\n"
          ]
        }
      ]
    },
    {
      "cell_type": "code",
      "source": [],
      "metadata": {
        "id": "qwVCSlDdyepm"
      },
      "execution_count": null,
      "outputs": []
    },
    {
      "cell_type": "code",
      "source": [],
      "metadata": {
        "id": "9hwnd8iY9Mdb"
      },
      "execution_count": null,
      "outputs": []
    },
    {
      "cell_type": "code",
      "source": [
        "import numpy as np\n",
        "import PIL\n",
        "\n",
        "im = PIL.Image.open(\"/content/line_segment.png\").convert(\"L\")"
      ],
      "metadata": {
        "id": "Y7SgZ4sn9Mlv"
      },
      "execution_count": 112,
      "outputs": []
    },
    {
      "cell_type": "code",
      "source": [
        "im_np = np.array(im)\n",
        "#im_np = im_np[:, :, :3]\n",
        "#im_np = np.asarray(im.getdata()).reshape(im.size)\n",
        "plt.imshow(im_np, cmap = 'gray')"
      ],
      "metadata": {
        "colab": {
          "base_uri": "https://localhost:8080/",
          "height": 215
        },
        "id": "4fgGru6z9UQO",
        "outputId": "83517a95-d0a1-4bd6-dc86-a3ca9683b210"
      },
      "execution_count": 115,
      "outputs": [
        {
          "output_type": "execute_result",
          "data": {
            "text/plain": [
              "<matplotlib.image.AxesImage at 0x7f4f6e700ad0>"
            ]
          },
          "metadata": {},
          "execution_count": 115
        },
        {
          "output_type": "display_data",
          "data": {
            "text/plain": [
              "<Figure size 432x288 with 1 Axes>"
            ],
            "image/png": "[encoded data removed]"
          },
          "metadata": {
            "needs_background": "light"
          }
        }
      ]
    },
    {
      "cell_type": "code",
      "source": [
        "im_np.shape"
      ],
      "metadata": {
        "colab": {
          "base_uri": "https://localhost:8080/"
        },
        "id": "7JQZVYj4K2sU",
        "outputId": "8fc88884-e851-40f5-f921-6e11d75b2a84"
      },
      "execution_count": 116,
      "outputs": [
        {
          "output_type": "execute_result",
          "data": {
            "text/plain": [
              "(176, 402)"
            ]
          },
          "metadata": {},
          "execution_count": 116
        }
      ]
    },
    {
      "cell_type": "code",
      "source": [
        "def to_binary(img, lower, upper):\n",
        "    return (lower < img) & (img < upper)\n",
        "\n",
        "bin_im = 1.0*(im_np > 150)\n",
        "plt.imshow(bin_im, cmap='gray')"
      ],
      "metadata": {
        "colab": {
          "base_uri": "https://localhost:8080/",
          "height": 215
        },
        "id": "8tE9exof9jA5",
        "outputId": "394c85f9-9acb-4099-9e4d-c5c9a258caf3"
      },
      "execution_count": 117,
      "outputs": [
        {
          "output_type": "execute_result",
          "data": {
            "text/plain": [
              "<matplotlib.image.AxesImage at 0x7f4f6e700b10>"
            ]
          },
          "metadata": {},
          "execution_count": 117
        },
        {
          "output_type": "display_data",
          "data": {
            "text/plain": [
              "<Figure size 432x288 with 1 Axes>"
            ],
            "image/png": "[encoded data removed]"
          },
          "metadata": {
            "needs_background": "light"
          }
        }
      ]
    },
    {
      "cell_type": "code",
      "source": [
        "bin_im"
      ],
      "metadata": {
        "colab": {
          "base_uri": "https://localhost:8080/"
        },
        "id": "4nChqmuS-5R-",
        "outputId": "41bb75b1-b61e-49b1-db0f-cdcb29c673bf"
      },
      "execution_count": 118,
      "outputs": [
        {
          "output_type": "execute_result",
          "data": {
            "text/plain": [
              "array([[1., 1., 1., ..., 1., 1., 1.],\n",
              "       [1., 1., 1., ..., 1., 1., 1.],\n",
              "       [1., 1., 1., ..., 1., 1., 1.],\n",
              "       ...,\n",
              "       [1., 1., 1., ..., 1., 1., 1.],\n",
              "       [1., 1., 1., ..., 1., 1., 1.],\n",
              "       [1., 1., 1., ..., 1., 1., 1.]])"
            ]
          },
          "metadata": {},
          "execution_count": 118
        }
      ]
    },
    {
      "cell_type": "code",
      "source": [
        "rot_im = np.rot90(bin_im)"
      ],
      "metadata": {
        "id": "e2eNnI_I_ckM"
      },
      "execution_count": 119,
      "outputs": []
    },
    {
      "cell_type": "code",
      "source": [
        "plt.imshow(rot_im, cmap='gray')"
      ],
      "metadata": {
        "colab": {
          "base_uri": "https://localhost:8080/",
          "height": 286
        },
        "id": "nF7lKREVAS0a",
        "outputId": "188e8326-1023-48dd-c240-bac6bb459027"
      },
      "execution_count": 120,
      "outputs": [
        {
          "output_type": "execute_result",
          "data": {
            "text/plain": [
              "<matplotlib.image.AxesImage at 0x7f4f6e63ed10>"
            ]
          },
          "metadata": {},
          "execution_count": 120
        },
        {
          "output_type": "display_data",
          "data": {
            "text/plain": [
              "<Figure size 432x288 with 1 Axes>"
            ],
            "image/png": "[encoded data removed]"
          },
          "metadata": {
            "needs_background": "light"
          }
        }
      ]
    },
    {
      "cell_type": "code",
      "source": [
        "im_sum = np.sum(rot_im, axis = 0)"
      ],
      "metadata": {
        "id": "VyGoGwwwAV-j"
      },
      "execution_count": 135,
      "outputs": []
    },
    {
      "cell_type": "code",
      "source": [
        "im_sum"
      ],
      "metadata": {
        "colab": {
          "base_uri": "https://localhost:8080/"
        },
        "id": "uEdYITXrOXr_",
        "outputId": "896a088d-41b1-4823-816a-c69f61a8240d"
      },
      "execution_count": 136,
      "outputs": [
        {
          "output_type": "execute_result",
          "data": {
            "text/plain": [
              "array([402., 402., 402., 402., 402., 402., 402., 402., 402., 402., 402.,\n",
              "       402., 402., 402., 402., 402., 402., 402., 402., 402., 402., 402.,\n",
              "       402., 402., 402., 402., 402., 402., 402., 402., 402., 402., 402.,\n",
              "       402., 402., 402., 402., 402., 402., 402., 402., 402., 402., 402.,\n",
              "       258., 237., 304., 315., 317., 312., 284., 279., 308., 309., 311.,\n",
              "       305., 250., 273., 400., 399., 397., 399., 402., 402., 402., 402.,\n",
              "       402., 402., 402., 402., 402., 402., 396., 377., 379., 388., 387.,\n",
              "       248., 221., 301., 316., 303., 302., 321., 317., 283., 250., 306.,\n",
              "       390., 383., 379., 391., 402., 402., 402., 402., 402., 402., 402.,\n",
              "       402., 402., 402., 402., 369., 340., 354., 371., 375., 369., 356.,\n",
              "       350., 361., 367., 368., 375., 334., 341., 402., 402., 402., 402.,\n",
              "       402., 402., 402., 402., 402., 402., 402., 402., 402., 402., 399.,\n",
              "       380., 367., 369., 367., 370., 355., 358., 367., 355., 345., 353.,\n",
              "       365., 362., 359., 373., 395., 394., 380., 381., 402., 402., 402.,\n",
              "       402., 402., 402., 402., 402., 402., 402., 402., 402., 402., 402.,\n",
              "       402., 402., 402., 402., 402., 402., 402., 402., 402., 402., 402.])"
            ]
          },
          "metadata": {},
          "execution_count": 136
        }
      ]
    },
    {
      "cell_type": "code",
      "source": [
        "index = [i for i in range(len(im_sum)) if im_sum[i] < 402] "
      ],
      "metadata": {
        "id": "L7w0gmYqAprV"
      },
      "execution_count": 137,
      "outputs": []
    },
    {
      "cell_type": "code",
      "source": [
        "im_sum[:100]"
      ],
      "metadata": {
        "colab": {
          "base_uri": "https://localhost:8080/"
        },
        "id": "efjdNqsGAusT",
        "outputId": "0ef6bb38-13f8-4ab0-9ccd-f58820ef2508"
      },
      "execution_count": 138,
      "outputs": [
        {
          "output_type": "execute_result",
          "data": {
            "text/plain": [
              "array([402., 402., 402., 402., 402., 402., 402., 402., 402., 402., 402.,\n",
              "       402., 402., 402., 402., 402., 402., 402., 402., 402., 402., 402.,\n",
              "       402., 402., 402., 402., 402., 402., 402., 402., 402., 402., 402.,\n",
              "       402., 402., 402., 402., 402., 402., 402., 402., 402., 402., 402.,\n",
              "       258., 237., 304., 315., 317., 312., 284., 279., 308., 309., 311.,\n",
              "       305., 250., 273., 400., 399., 397., 399., 402., 402., 402., 402.,\n",
              "       402., 402., 402., 402., 402., 402., 396., 377., 379., 388., 387.,\n",
              "       248., 221., 301., 316., 303., 302., 321., 317., 283., 250., 306.,\n",
              "       390., 383., 379., 391., 402., 402., 402., 402., 402., 402., 402.,\n",
              "       402.])"
            ]
          },
          "metadata": {},
          "execution_count": 138
        }
      ]
    },
    {
      "cell_type": "code",
      "source": [
        "index"
      ],
      "metadata": {
        "colab": {
          "base_uri": "https://localhost:8080/"
        },
        "id": "DCxVeFYhHtQs",
        "outputId": "e120caf8-4e94-4f8c-c5b2-be142fb75923"
      },
      "execution_count": 139,
      "outputs": [
        {
          "output_type": "execute_result",
          "data": {
            "text/plain": [
              "[44,\n",
              " 45,\n",
              " 46,\n",
              " 47,\n",
              " 48,\n",
              " 49,\n",
              " 50,\n",
              " 51,\n",
              " 52,\n",
              " 53,\n",
              " 54,\n",
              " 55,\n",
              " 56,\n",
              " 57,\n",
              " 58,\n",
              " 59,\n",
              " 60,\n",
              " 61,\n",
              " 72,\n",
              " 73,\n",
              " 74,\n",
              " 75,\n",
              " 76,\n",
              " 77,\n",
              " 78,\n",
              " 79,\n",
              " 80,\n",
              " 81,\n",
              " 82,\n",
              " 83,\n",
              " 84,\n",
              " 85,\n",
              " 86,\n",
              " 87,\n",
              " 88,\n",
              " 89,\n",
              " 90,\n",
              " 91,\n",
              " 103,\n",
              " 104,\n",
              " 105,\n",
              " 106,\n",
              " 107,\n",
              " 108,\n",
              " 109,\n",
              " 110,\n",
              " 111,\n",
              " 112,\n",
              " 113,\n",
              " 114,\n",
              " 115,\n",
              " 116,\n",
              " 131,\n",
              " 132,\n",
              " 133,\n",
              " 134,\n",
              " 135,\n",
              " 136,\n",
              " 137,\n",
              " 138,\n",
              " 139,\n",
              " 140,\n",
              " 141,\n",
              " 142,\n",
              " 143,\n",
              " 144,\n",
              " 145,\n",
              " 146,\n",
              " 147,\n",
              " 148,\n",
              " 149,\n",
              " 150]"
            ]
          },
          "metadata": {},
          "execution_count": 139
        }
      ]
    },
    {
      "cell_type": "code",
      "source": [
        "plt.hist(im_sum)"
      ],
      "metadata": {
        "colab": {
          "base_uri": "https://localhost:8080/",
          "height": 335
        },
        "id": "GJDJeX_xIm6i",
        "outputId": "bf79b872-48da-4792-f63a-ce1baf6aa254"
      },
      "execution_count": 125,
      "outputs": [
        {
          "output_type": "execute_result",
          "data": {
            "text/plain": [
              "(array([  3.,   3.,  16.,  19.,  31.,  34.,  23.,  65.,  53., 155.]),\n",
              " array([132. , 136.4, 140.8, 145.2, 149.6, 154. , 158.4, 162.8, 167.2,\n",
              "        171.6, 176. ]),\n",
              " <a list of 10 Patch objects>)"
            ]
          },
          "metadata": {},
          "execution_count": 125
        },
        {
          "output_type": "display_data",
          "data": {
            "text/plain": [
              "<Figure size 432x288 with 1 Axes>"
            ],
            "image/png": "[encoded data removed]"
          },
          "metadata": {
            "needs_background": "light"
          }
        }
      ]
    },
    {
      "cell_type": "code",
      "source": [
        "line1 = bin_im[44:61]\n",
        "plt.imshow(bin_im[44:61], cmap = 'gray')"
      ],
      "metadata": {
        "colab": {
          "base_uri": "https://localhost:8080/",
          "height": 83
        },
        "id": "9n_kr4NOI9Ox",
        "outputId": "48514960-1266-4d4d-daa3-aa8cf3f1d4c6"
      },
      "execution_count": 147,
      "outputs": [
        {
          "output_type": "execute_result",
          "data": {
            "text/plain": [
              "<matplotlib.image.AxesImage at 0x7f4f6df89550>"
            ]
          },
          "metadata": {},
          "execution_count": 147
        },
        {
          "output_type": "display_data",
          "data": {
            "text/plain": [
              "<Figure size 432x288 with 1 Axes>"
            ],
            "image/png": "[encoded data removed]"
          },
          "metadata": {
            "needs_background": "light"
          }
        }
      ]
    },
    {
      "cell_type": "code",
      "source": [
        "line2 = bin_im[72:91]\n",
        "plt.imshow(bin_im[72:91], cmap = 'gray')"
      ],
      "metadata": {
        "colab": {
          "base_uri": "https://localhost:8080/",
          "height": 84
        },
        "id": "oRJFJ29ANgbB",
        "outputId": "af830f64-d8d4-4365-fa25-f6a65f2ce52d"
      },
      "execution_count": 148,
      "outputs": [
        {
          "output_type": "execute_result",
          "data": {
            "text/plain": [
              "<matplotlib.image.AxesImage at 0x7f4f717a9090>"
            ]
          },
          "metadata": {},
          "execution_count": 148
        },
        {
          "output_type": "display_data",
          "data": {
            "text/plain": [
              "<Figure size 432x288 with 1 Axes>"
            ],
            "image/png": "[encoded data removed]"
          },
          "metadata": {
            "needs_background": "light"
          }
        }
      ]
    },
    {
      "cell_type": "code",
      "source": [
        "line3 = bin_im[103:116]\n",
        "plt.imshow(bin_im[103:116], cmap = 'gray')"
      ],
      "metadata": {
        "colab": {
          "base_uri": "https://localhost:8080/",
          "height": 79
        },
        "id": "wVLtWgrJOMyN",
        "outputId": "eb7277ad-66c7-408d-b090-dbbd43adffb0"
      },
      "execution_count": 149,
      "outputs": [
        {
          "output_type": "execute_result",
          "data": {
            "text/plain": [
              "<matplotlib.image.AxesImage at 0x7f4f6df2cbd0>"
            ]
          },
          "metadata": {},
          "execution_count": 149
        },
        {
          "output_type": "display_data",
          "data": {
            "text/plain": [
              "<Figure size 432x288 with 1 Axes>"
            ],
            "image/png": "[encoded data removed]"
          },
          "metadata": {
            "needs_background": "light"
          }
        }
      ]
    },
    {
      "cell_type": "code",
      "source": [
        "line4 = bin_im[131:150]\n",
        "plt.imshow(bin_im[131:150], cmap = 'gray')"
      ],
      "metadata": {
        "colab": {
          "base_uri": "https://localhost:8080/",
          "height": 84
        },
        "id": "8XWYazXUPDpK",
        "outputId": "4d6eb584-3c31-462c-c5ca-bb4acb73eea1"
      },
      "execution_count": 150,
      "outputs": [
        {
          "output_type": "execute_result",
          "data": {
            "text/plain": [
              "<matplotlib.image.AxesImage at 0x7f4f6df64950>"
            ]
          },
          "metadata": {},
          "execution_count": 150
        },
        {
          "output_type": "display_data",
          "data": {
            "text/plain": [
              "<Figure size 432x288 with 1 Axes>"
            ],
            "image/png": "[encoded data removed]"
          },
          "metadata": {
            "needs_background": "light"
          }
        }
      ]
    },
    {
      "cell_type": "code",
      "source": [
        "rot_line1 = np.rot90(line1)\n",
        "line1_sum = np.sum(rot_line1, axis = 1)\n",
        "line1_sum"
      ],
      "metadata": {
        "colab": {
          "base_uri": "https://localhost:8080/"
        },
        "id": "j9NrVyN9PJfm",
        "outputId": "c10b4e3c-dc83-455a-952e-810be60907a9"
      },
      "execution_count": 158,
      "outputs": [
        {
          "output_type": "execute_result",
          "data": {
            "text/plain": [
              "array([17., 17., 17., 17., 17., 17., 17., 17., 17., 17., 17., 17., 17.,\n",
              "       17., 17., 17., 17., 17., 17., 17., 17., 17., 17., 17., 17., 17.,\n",
              "       17., 17., 17., 17., 17., 17., 17., 17., 17., 17., 17., 17., 17.,\n",
              "       17., 17., 17., 17., 17., 17., 17., 17., 17., 17., 17., 17., 17.,\n",
              "       17., 17., 17., 17., 17., 17., 14., 12., 11., 10., 11., 10., 11.,\n",
              "       10., 12., 13., 17., 17., 15., 13., 13., 13.,  9.,  9., 14., 13.,\n",
              "       13., 14., 16., 17., 14., 11., 10., 10., 11., 12.,  9., 10., 10.,\n",
              "       13., 16., 17.,  4.,  6., 14., 12., 12., 14., 13., 14., 10.,  3.,\n",
              "       13., 16., 13., 11., 11., 11., 13., 14., 11., 11., 11., 12., 15.,\n",
              "       17.,  7.,  4., 14., 15., 15., 15., 15., 14.,  4.,  5., 17., 17.,\n",
              "       15., 15., 15., 15.,  3.,  3., 15., 15., 15., 15., 17., 17., 17.,\n",
              "       13.,  9., 11., 11., 11., 11., 10., 10., 12., 17., 17., 16., 11.,\n",
              "        7.,  9., 12., 13., 13., 13.,  3.,  3., 17., 17.,  7.,  5., 10.,\n",
              "       10., 10., 11., 13., 11.,  9.,  7., 12., 17., 15., 11., 11., 11.,\n",
              "       13., 13., 13., 13.,  3.,  3., 17., 17., 10.,  7., 11., 11., 13.,\n",
              "       13., 13., 11., 11.,  7., 11., 17., 17.,  3., 14., 13., 13., 13.,\n",
              "       13., 13.,  3.,  3., 17., 17.,  6.,  3., 14., 13., 13., 15., 13.,\n",
              "       13., 14.,  3.,  5., 17., 17., 15., 15., 15., 15., 15., 15.,  3.,\n",
              "        3., 17., 17., 17., 17., 15., 12., 11., 11., 13., 13., 15.,  3.,\n",
              "        3., 17., 17., 17., 17.,  6.,  4., 12., 13., 13., 13., 13., 16.,\n",
              "       17., 17., 17., 13., 13., 13., 13.,  3.,  3., 13., 13., 13., 17.,\n",
              "       17., 17.,  3.,  3., 15., 15., 15., 15., 15., 15.,  3., 17., 17.,\n",
              "       17.,  8.,  7., 11., 11., 11., 13., 12., 10.,  7., 11., 17., 17.,\n",
              "       17., 13., 13., 13., 13., 13., 13.,  3.,  3., 17., 17., 17., 17.,\n",
              "       11., 11., 11., 11., 11., 11.,  3.,  3., 17., 17., 14.,  8.,  8.,\n",
              "       13., 12., 13., 13., 13., 13.,  3.,  3., 17., 17., 13., 13., 13.,\n",
              "       13., 13., 13., 13.,  9.,  8., 12., 17., 17., 13.,  6.,  8., 11.,\n",
              "       11., 11., 11.,  3.,  3., 17., 17., 15., 12., 11.,  9.,  9., 13.,\n",
              "       12., 10., 10., 11., 13., 16., 17., 17., 17., 17., 17., 17., 17.,\n",
              "       17., 17., 17., 17., 17., 17., 17., 17., 17., 17., 17., 17., 17.,\n",
              "       17., 17., 17., 17., 17., 17., 17., 17., 17., 17., 17., 17.])"
            ]
          },
          "metadata": {},
          "execution_count": 158
        }
      ]
    },
    {
      "cell_type": "code",
      "source": [
        "index_line1 = [i for i in range(len(line1_sum)) if line1_sum[i] < 17]\n",
        "index_line1 "
      ],
      "metadata": {
        "colab": {
          "base_uri": "https://localhost:8080/"
        },
        "id": "m7w74keqP61v",
        "outputId": "4913cee3-584c-4200-c860-3042a8864848"
      },
      "execution_count": 159,
      "outputs": [
        {
          "output_type": "execute_result",
          "data": {
            "text/plain": [
              "[58,\n",
              " 59,\n",
              " 60,\n",
              " 61,\n",
              " 62,\n",
              " 63,\n",
              " 64,\n",
              " 65,\n",
              " 66,\n",
              " 67,\n",
              " 70,\n",
              " 71,\n",
              " 72,\n",
              " 73,\n",
              " 74,\n",
              " 75,\n",
              " 76,\n",
              " 77,\n",
              " 78,\n",
              " 79,\n",
              " 80,\n",
              " 82,\n",
              " 83,\n",
              " 84,\n",
              " 85,\n",
              " 86,\n",
              " 87,\n",
              " 88,\n",
              " 89,\n",
              " 90,\n",
              " 91,\n",
              " 92,\n",
              " 94,\n",
              " 95,\n",
              " 96,\n",
              " 97,\n",
              " 98,\n",
              " 99,\n",
              " 100,\n",
              " 101,\n",
              " 102,\n",
              " 103,\n",
              " 104,\n",
              " 105,\n",
              " 106,\n",
              " 107,\n",
              " 108,\n",
              " 109,\n",
              " 110,\n",
              " 111,\n",
              " 112,\n",
              " 113,\n",
              " 114,\n",
              " 115,\n",
              " 116,\n",
              " 118,\n",
              " 119,\n",
              " 120,\n",
              " 121,\n",
              " 122,\n",
              " 123,\n",
              " 124,\n",
              " 125,\n",
              " 126,\n",
              " 127,\n",
              " 130,\n",
              " 131,\n",
              " 132,\n",
              " 133,\n",
              " 134,\n",
              " 135,\n",
              " 136,\n",
              " 137,\n",
              " 138,\n",
              " 139,\n",
              " 143,\n",
              " 144,\n",
              " 145,\n",
              " 146,\n",
              " 147,\n",
              " 148,\n",
              " 149,\n",
              " 150,\n",
              " 151,\n",
              " 154,\n",
              " 155,\n",
              " 156,\n",
              " 157,\n",
              " 158,\n",
              " 159,\n",
              " 160,\n",
              " 161,\n",
              " 162,\n",
              " 163,\n",
              " 166,\n",
              " 167,\n",
              " 168,\n",
              " 169,\n",
              " 170,\n",
              " 171,\n",
              " 172,\n",
              " 173,\n",
              " 174,\n",
              " 175,\n",
              " 176,\n",
              " 178,\n",
              " 179,\n",
              " 180,\n",
              " 181,\n",
              " 182,\n",
              " 183,\n",
              " 184,\n",
              " 185,\n",
              " 186,\n",
              " 187,\n",
              " 190,\n",
              " 191,\n",
              " 192,\n",
              " 193,\n",
              " 194,\n",
              " 195,\n",
              " 196,\n",
              " 197,\n",
              " 198,\n",
              " 199,\n",
              " 200,\n",
              " 203,\n",
              " 204,\n",
              " 205,\n",
              " 206,\n",
              " 207,\n",
              " 208,\n",
              " 209,\n",
              " 210,\n",
              " 211,\n",
              " 214,\n",
              " 215,\n",
              " 216,\n",
              " 217,\n",
              " 218,\n",
              " 219,\n",
              " 220,\n",
              " 221,\n",
              " 222,\n",
              " 223,\n",
              " 224,\n",
              " 227,\n",
              " 228,\n",
              " 229,\n",
              " 230,\n",
              " 231,\n",
              " 232,\n",
              " 233,\n",
              " 234,\n",
              " 239,\n",
              " 240,\n",
              " 241,\n",
              " 242,\n",
              " 243,\n",
              " 244,\n",
              " 245,\n",
              " 246,\n",
              " 247,\n",
              " 252,\n",
              " 253,\n",
              " 254,\n",
              " 255,\n",
              " 256,\n",
              " 257,\n",
              " 258,\n",
              " 259,\n",
              " 263,\n",
              " 264,\n",
              " 265,\n",
              " 266,\n",
              " 267,\n",
              " 268,\n",
              " 269,\n",
              " 270,\n",
              " 271,\n",
              " 275,\n",
              " 276,\n",
              " 277,\n",
              " 278,\n",
              " 279,\n",
              " 280,\n",
              " 281,\n",
              " 282,\n",
              " 283,\n",
              " 287,\n",
              " 288,\n",
              " 289,\n",
              " 290,\n",
              " 291,\n",
              " 292,\n",
              " 293,\n",
              " 294,\n",
              " 295,\n",
              " 296,\n",
              " 300,\n",
              " 301,\n",
              " 302,\n",
              " 303,\n",
              " 304,\n",
              " 305,\n",
              " 306,\n",
              " 307,\n",
              " 312,\n",
              " 313,\n",
              " 314,\n",
              " 315,\n",
              " 316,\n",
              " 317,\n",
              " 318,\n",
              " 319,\n",
              " 322,\n",
              " 323,\n",
              " 324,\n",
              " 325,\n",
              " 326,\n",
              " 327,\n",
              " 328,\n",
              " 329,\n",
              " 330,\n",
              " 331,\n",
              " 332,\n",
              " 335,\n",
              " 336,\n",
              " 337,\n",
              " 338,\n",
              " 339,\n",
              " 340,\n",
              " 341,\n",
              " 342,\n",
              " 343,\n",
              " 344,\n",
              " 347,\n",
              " 348,\n",
              " 349,\n",
              " 350,\n",
              " 351,\n",
              " 352,\n",
              " 353,\n",
              " 354,\n",
              " 355,\n",
              " 358,\n",
              " 359,\n",
              " 360,\n",
              " 361,\n",
              " 362,\n",
              " 363,\n",
              " 364,\n",
              " 365,\n",
              " 366,\n",
              " 367,\n",
              " 368,\n",
              " 369]"
            ]
          },
          "metadata": {},
          "execution_count": 159
        }
      ]
    },
    {
      "cell_type": "code",
      "source": [
        "plt.imshow(np.rot90(np.rot90(np.rot90(rot_line1[58:67]))), cmap='gray')"
      ],
      "metadata": {
        "colab": {
          "base_uri": "https://localhost:8080/",
          "height": 282
        },
        "id": "aZ4gT3xGQLGh",
        "outputId": "89057435-8554-4bc6-81b9-1eeb84274af5"
      },
      "execution_count": 166,
      "outputs": [
        {
          "output_type": "execute_result",
          "data": {
            "text/plain": [
              "<matplotlib.image.AxesImage at 0x7f4f6dbe5550>"
            ]
          },
          "metadata": {},
          "execution_count": 166
        },
        {
          "output_type": "display_data",
          "data": {
            "text/plain": [
              "<Figure size 432x288 with 1 Axes>"
            ],
            "image/png": "[encoded data removed]"
          },
          "metadata": {
            "needs_background": "light"
          }
        }
      ]
    },
    {
      "cell_type": "code",
      "source": [
        "plt.imshow(np.rot90(np.rot90(np.rot90(rot_line1[70:80]))), cmap='gray')"
      ],
      "metadata": {
        "colab": {
          "base_uri": "https://localhost:8080/",
          "height": 282
        },
        "id": "GpF80TCpQVC_",
        "outputId": "7c7a60b4-58ed-4d8f-f771-c229fc28e581"
      },
      "execution_count": 168,
      "outputs": [
        {
          "output_type": "execute_result",
          "data": {
            "text/plain": [
              "<matplotlib.image.AxesImage at 0x7f4f6db2b110>"
            ]
          },
          "metadata": {},
          "execution_count": 168
        },
        {
          "output_type": "display_data",
          "data": {
            "text/plain": [
              "<Figure size 432x288 with 1 Axes>"
            ],
            "image/png": "[encoded data removed]"
          },
          "metadata": {
            "needs_background": "light"
          }
        }
      ]
    },
    {
      "cell_type": "code",
      "source": [
        "plt.imshow(np.rot90(np.rot90(np.rot90(rot_line1[82:92]))), cmap='gray')"
      ],
      "metadata": {
        "colab": {
          "base_uri": "https://localhost:8080/",
          "height": 282
        },
        "id": "43zuD_lqR5po",
        "outputId": "81b7044b-8780-433f-dd6c-4f68158544ed"
      },
      "execution_count": 169,
      "outputs": [
        {
          "output_type": "execute_result",
          "data": {
            "text/plain": [
              "<matplotlib.image.AxesImage at 0x7f4f6db06590>"
            ]
          },
          "metadata": {},
          "execution_count": 169
        },
        {
          "output_type": "display_data",
          "data": {
            "text/plain": [
              "<Figure size 432x288 with 1 Axes>"
            ],
            "image/png": "[encoded data removed]"
          },
          "metadata": {
            "needs_background": "light"
          }
        }
      ]
    },
    {
      "cell_type": "code",
      "source": [],
      "metadata": {
        "id": "NBqx106HSTg8"
      },
      "execution_count": null,
      "outputs": []
    }
  ]
}